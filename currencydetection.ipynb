{
 "cells": [
  {
   "cell_type": "code",
   "execution_count": 1,
   "metadata": {},
   "outputs": [],
   "source": [
    "import cv2\n",
    "import matplotlib.pyplot as plt\n",
    "import numpy as np\n",
    "import os\n",
    "from skimage.feature import hog\n",
    "from sklearn.model_selection import train_test_split\n",
    "from sklearn.svm import SVC\n",
    "from sklearn.metrics import accuracy_score, precision_score, recall_score, f1_score"
   ]
  },
  {
   "cell_type": "code",
   "execution_count": 2,
   "metadata": {},
   "outputs": [],
   "source": [
    "def preprocessing(img):\n",
    "    # Resize the image\n",
    "    img = cv2.resize(img, (640, 480))  # Set the desired width and height\n",
    "\n",
    "    # Convert the image to grayscale\n",
    "    gray = cv2.cvtColor(img, cv2.COLOR_BGR2GRAY)\n",
    "\n",
    "    # Apply a bilateral filter to smooth the image while preserving edges\n",
    "    blur = cv2.bilateralFilter(gray, 9, 75, 75)\n",
    "\n",
    "    # Apply adaptive thresholding to segment the image into foreground and background\n",
    "    thresh = cv2.adaptiveThreshold(blur, 255, cv2.ADAPTIVE_THRESH_MEAN_C, cv2.THRESH_BINARY_INV, 15, 8)\n",
    "\n",
    "    # Find contours in the thresholded image\n",
    "    contours, hierarchy = cv2.findContours(thresh, cv2.RETR_EXTERNAL, cv2.CHAIN_APPROX_SIMPLE)\n",
    "\n",
    "    # Find the contour with the largest area\n",
    "    areas = [cv2.contourArea(c) for c in contours]\n",
    "    max_index = np.argmax(areas)\n",
    "    cnt = contours[max_index]\n",
    "\n",
    "    # Create a mask for the foreground\n",
    "    mask = np.zeros_like(thresh)\n",
    "    cv2.drawContours(mask, [cnt], 0, 255, -1)\n",
    "\n",
    "    # Apply the mask to the original image\n",
    "    masked = cv2.bitwise_and(img, img, mask=mask)\n",
    "\n",
    "    # Crop the image\n",
    "    x, y, w, h = cv2.boundingRect(cnt)\n",
    "    cropped = masked[y:y+h, x:x+w]\n",
    "\n",
    "    return cropped\n",
    "\n",
    "\n"
   ]
  },
  {
   "cell_type": "code",
   "execution_count": 3,
   "metadata": {},
   "outputs": [],
   "source": [
    "def edgeDetection(img):\n",
    "    gray = cv2.cvtColor(img, cv2.COLOR_BGR2GRAY)\n",
    "    # Compute the gradients in the x and y directions using the Sobel operator\n",
    "    dx = cv2.Sobel(gray, cv2.CV_64F, 1, 0, ksize=3)\n",
    "    dy = cv2.Sobel(gray, cv2.CV_64F, 0, 1, ksize=3)\n",
    "\n",
    "    # Compute the magnitude of the gradient and threshold the resulting image\n",
    "    mag = np.sqrt(dx**2 + dy**2)\n",
    "    mag_thresh = np.max(mag) * 0.1  # Set the threshold as a fraction of the maximum gradient magnitude\n",
    "    edges = np.zeros_like(mag)\n",
    "    edges[mag > mag_thresh] = 255\n",
    "\n",
    "    return edges"
   ]
  },
  {
   "cell_type": "code",
   "execution_count": 4,
   "metadata": {},
   "outputs": [],
   "source": [
    "def HoG(image):\n",
    "    fd, hog_image = hog(image, orientations=8, pixels_per_cell=(16, 16), cells_per_block=(1, 1), visualize=True)\n",
    "    return fd, hog_image"
   ]
  },
  {
   "cell_type": "code",
   "execution_count": 5,
   "metadata": {},
   "outputs": [],
   "source": [
    "dataset_dir = 'dataset'\n",
    "class_names = ['real', 'fake']\n",
    "\n",
    "data = []\n",
    "labels = []\n",
    "n = 6000\n",
    "for class_name in class_names:\n",
    "    class_dir = os.path.join(dataset_dir, class_name)\n",
    "\n",
    "    for image_name in os.listdir(class_dir):\n",
    "        image_path = os.path.join(class_dir, image_name)\n",
    "        image = cv2.imread(image_path)\n",
    "\n",
    "        preprocessed_img = preprocessing(image)\n",
    "        edges_image = edgeDetection(preprocessed_img)\n",
    "        features, hog_img = HoG(edges_image)\n",
    "\n",
    "        # Check if features has the correct shape\n",
    "        if features.shape != (n,):\n",
    "            # Reshape or pad features to correct shape\n",
    "            features = np.resize(features, n)\n",
    "        data.append(features)\n",
    "        labels.append(class_names.index(class_name))"
   ]
  },
  {
   "cell_type": "code",
   "execution_count": 6,
   "metadata": {},
   "outputs": [
    {
     "name": "stdout",
     "output_type": "stream",
     "text": [
      "Accuracy:  1.00, Precision:  1.00, Recall:  1.00, F1-score:  1.00\n"
     ]
    }
   ],
   "source": [
    "data = np.array(data)\n",
    "labels = np.array(labels)\n",
    "\n",
    "X_train, X_test, Y_train, Y_test = train_test_split(data, labels, test_size=0.3, random_state=42)\n",
    "\n",
    "clf = SVC(kernel='linear', C=1.0, random_state=42)\n",
    "clf.fit(X_train, Y_train)\n",
    "\n",
    "Y_pred = clf.predict(X_test)\n",
    "accuracy = accuracy_score(Y_test, Y_pred)\n",
    "precision = precision_score(Y_test, Y_pred)\n",
    "recall = recall_score(Y_test, Y_pred)\n",
    "f1 = f1_score(Y_test, Y_pred)\n",
    "\n",
    "print(f'Accuracy: {accuracy: .2f}, Precision: {precision: .2f}, Recall: {recall: .2f}, F1-score: {f1: .2f}')"
   ]
  },
  {
   "cell_type": "code",
   "execution_count": 7,
   "metadata": {},
   "outputs": [
    {
     "name": "stdout",
     "output_type": "stream",
     "text": [
      "fake\n"
     ]
    }
   ],
   "source": [
    "path = 'sample.png'\n",
    "\n",
    "test_image = cv2.imread(path)\n",
    "\n",
    "test_preprocessed = preprocessing(test_image)\n",
    "\n",
    "test_edges = edgeDetection(test_preprocessed)\n",
    "test_features, hm = HoG(test_edges)\n",
    "\n",
    "if test_features.shape != (n,):\n",
    "    # Reshape or pad features to correct shape\n",
    "    test_features = np.resize(test_features, n)\n",
    "\n",
    "prediction = clf.predict([test_features])[0]\n",
    "\n",
    "if prediction == 0:\n",
    "    print('real')\n",
    "\n",
    "else:\n",
    "    print('fake')"
   ]
  },
  {
   "cell_type": "code",
   "execution_count": 8,
   "metadata": {},
   "outputs": [
    {
     "data": {
      "text/plain": [
       "['currencyDetector.pkl']"
      ]
     },
     "execution_count": 8,
     "metadata": {},
     "output_type": "execute_result"
    }
   ],
   "source": [
    "import joblib\n",
    "\n",
    "model = clf\n",
    "joblib.dump(model, 'currencyDetector.pkl')"
   ]
  }
 ],
 "metadata": {
  "kernelspec": {
   "display_name": "Python 3",
   "language": "python",
   "name": "python3"
  },
  "language_info": {
   "codemirror_mode": {
    "name": "ipython",
    "version": 3
   },
   "file_extension": ".py",
   "mimetype": "text/x-python",
   "name": "python",
   "nbconvert_exporter": "python",
   "pygments_lexer": "ipython3",
   "version": "3.11.1"
  },
  "orig_nbformat": 4
 },
 "nbformat": 4,
 "nbformat_minor": 2
}
