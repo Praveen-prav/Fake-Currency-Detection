{
 "cells": [
  {
   "cell_type": "code",
   "execution_count": 11,
   "metadata": {},
   "outputs": [],
   "source": [
    "import cv2\n",
    "import numpy as np\n",
    "import os\n",
    "import matplotlib.pyplot as plt\n",
    "\n",
    "from sklearn.model_selection import train_test_split\n",
    "from sklearn.svm import SVC\n",
    "from sklearn.metrics import accuracy_score, precision_score, recall_score, f1_score\n"
   ]
  },
  {
   "cell_type": "code",
   "execution_count": 3,
   "metadata": {},
   "outputs": [],
   "source": [
    "def preprocessing(img):\n",
    "    alpha = 1.5\n",
    "    beta = 0.5\n",
    "    # adjusted = cv2.convertScaleAbs(img, alpha=alpha, beta=beta)\n",
    "    gray = cv2.cvtColor(img, cv2.COLOR_BGR2GRAY)\n",
    "    # resize = cv2.resize(gray, (64, 64))\n",
    "    blurred = cv2.GaussianBlur(gray, (5,5), 0)\n",
    "\n",
    "    thres = cv2.adaptiveThreshold(blurred, 255, cv2.ADAPTIVE_THRESH_GAUSSIAN_C, cv2.THRESH_BINARY_INV, 11, 2)\n",
    "    return thres"
   ]
  },
  {
   "cell_type": "code",
   "execution_count": 4,
   "metadata": {},
   "outputs": [],
   "source": [
    "def featureExtraction(img):\n",
    "    mean, var = cv2.meanStdDev(img)\n",
    "\n",
    "    skewness = np.mean((img - mean) ** 3) / var ** 1.5\n",
    "    kurtosis = np.mean((img - mean) ** 4) / var ** 2 - 3\n",
    "\n",
    "    moments = cv2.moments(img)\n",
    "\n",
    "    hu_moments = cv2.HuMoments(moments)\n",
    "    hu_moments = -np.sign(hu_moments) * np.log10(np.abs(hu_moments))\n",
    "\n",
    "    features = np.concatenate((mean, var, skewness, kurtosis, hu_moments), axis=None)\n",
    "    return features"
   ]
  },
  {
   "cell_type": "code",
   "execution_count": 23,
   "metadata": {},
   "outputs": [],
   "source": [
    "dataset_dir = 'dataset'\n",
    "class_names = ['real', 'fake']\n",
    "\n",
    "data = []\n",
    "labels = []\n",
    "\n",
    "for class_name in class_names:\n",
    "    class_dir = os.path.join(dataset_dir, class_name)\n",
    "\n",
    "    for image_name in os.listdir(class_dir):\n",
    "        image_path = os.path.join(class_dir, image_name)\n",
    "        image = cv2.imread(image_path)\n",
    "\n",
    "        preprocessed_images = []\n",
    "\n",
    "        preprocessed = preprocessing(image)\n",
    "\n",
    "        moments = featureExtraction(preprocessed)\n",
    "\n",
    "        data.append(moments)\n",
    "        labels.append(class_names.index(class_name))\n",
    "        "
   ]
  },
  {
   "cell_type": "code",
   "execution_count": 8,
   "metadata": {},
   "outputs": [
    {
     "name": "stdout",
     "output_type": "stream",
     "text": [
      "Accuracy:  0.77, Precision:  0.77, Recall:  0.74, F1-score:  0.76\n"
     ]
    }
   ],
   "source": [
    "data = np.array(data)\n",
    "labels = np.array(labels)\n",
    "\n",
    "X_train, X_test, Y_train, Y_test = train_test_split(data, labels, test_size=0.3, random_state=42)\n",
    "\n",
    "clf = SVC(kernel='linear', C=1.0, random_state=42)\n",
    "clf.fit(X_train, Y_train)\n",
    "\n",
    "Y_pred = clf.predict(X_test)\n",
    "accuracy = accuracy_score(Y_test, Y_pred)\n",
    "precision = precision_score(Y_test, Y_pred)\n",
    "recall = recall_score(Y_test, Y_pred)\n",
    "f1 = f1_score(Y_test, Y_pred)\n",
    "\n",
    "print(f'Accuracy: {accuracy: .2f}, Precision: {precision: .2f}, Recall: {recall: .2f}, F1-score: {f1: .2f}')"
   ]
  },
  {
   "cell_type": "code",
   "execution_count": 24,
   "metadata": {},
   "outputs": [
    {
     "name": "stdout",
     "output_type": "stream",
     "text": [
      "real\n"
     ]
    }
   ],
   "source": [
    "path = 'real_test.jpg'\n",
    "\n",
    "test_image = cv2.imread(path)\n",
    "\n",
    "# plt.imshow(test_image)\n",
    "\n",
    "test_preprocessed = preprocessing(test_image)\n",
    "\n",
    "test_features = featureExtraction(test_preprocessed)\n",
    "\n",
    "prediction = clf.predict([test_features])[0]\n",
    "\n",
    "if prediction == 0:\n",
    "    print('real')\n",
    "\n",
    "else:\n",
    "    print('fake')"
   ]
  }
 ],
 "metadata": {
  "kernelspec": {
   "display_name": "Python 3",
   "language": "python",
   "name": "python3"
  },
  "language_info": {
   "codemirror_mode": {
    "name": "ipython",
    "version": 3
   },
   "file_extension": ".py",
   "mimetype": "text/x-python",
   "name": "python",
   "nbconvert_exporter": "python",
   "pygments_lexer": "ipython3",
   "version": "3.11.1"
  },
  "orig_nbformat": 4
 },
 "nbformat": 4,
 "nbformat_minor": 2
}
